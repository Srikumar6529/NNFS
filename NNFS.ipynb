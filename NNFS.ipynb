{
  "nbformat": 4,
  "nbformat_minor": 0,
  "metadata": {
    "colab": {
      "provenance": []
    },
    "kernelspec": {
      "name": "python3",
      "display_name": "Python 3"
    },
    "language_info": {
      "name": "python"
    }
  },
  "cells": [
    {
      "cell_type": "code",
      "execution_count": 6,
      "metadata": {
        "id": "Zdji6tlH4z6G"
      },
      "outputs": [],
      "source": [
        "import numpy as np\n",
        "from tensorflow.keras.datasets import mnist"
      ]
    },
    {
      "cell_type": "code",
      "source": [
        "#data\n",
        "(xtrain,ytrain), (xtest,ytest)=mnist.load_data()"
      ],
      "metadata": {
        "id": "FQpwXK7JICVg"
      },
      "execution_count": 49,
      "outputs": []
    },
    {
      "cell_type": "code",
      "source": [
        "ytrain.dtype\n",
        "ytrain = ytrain.astype('int32')"
      ],
      "metadata": {
        "id": "lgGARqQlIurR"
      },
      "execution_count": 47,
      "outputs": []
    },
    {
      "cell_type": "code",
      "source": [
        "#data preprocessing\n",
        "xtrain = xtrain.reshape(xtrain.shape[0], -1) / 255.0\n",
        "xtest = xtest.reshape(xtest.shape[0], -1) / 255.0\n",
        "ytrain = np.eye(10)[ytrain]"
      ],
      "metadata": {
        "id": "EHJnwy7_INBF"
      },
      "execution_count": 51,
      "outputs": []
    },
    {
      "cell_type": "code",
      "source": [
        "#neural network\n",
        "inputlayer=784\n",
        "hiddenlayer=16\n",
        "outputlayer=10\n",
        "lrate=0.01"
      ],
      "metadata": {
        "id": "aRYGojfpIq4T"
      },
      "execution_count": 20,
      "outputs": []
    },
    {
      "cell_type": "code",
      "source": [
        "#weights&biases\n",
        "np.random.seed(0)\n",
        "w1=np.random.randn(inputlayer,hiddenlayer)\n",
        "b1=np.zeros(hiddenlayer)\n",
        "w2=np.random.randn(hiddenlayer,outputlayer)\n",
        "b2=np.zeros(outputlayer)"
      ],
      "metadata": {
        "id": "R5324BvtJZY-"
      },
      "execution_count": 21,
      "outputs": []
    },
    {
      "cell_type": "code",
      "source": [
        "#activation functions\n",
        "\n",
        "#RELU\n",
        "def relu(x):\n",
        "  return np.maximum(0,x)\n",
        "\n",
        "#softmax\n",
        "\n",
        "def softmax(x):\n",
        "  ex=np.exp(x-np.max(x,axis=1,keepdims=True))\n",
        "  return ex/ex.sum(axis=1,keepdims=True)\n"
      ],
      "metadata": {
        "id": "3SZY5miYJ2KE"
      },
      "execution_count": 28,
      "outputs": []
    },
    {
      "cell_type": "code",
      "source": [
        "#model training\n",
        "epochs=100\n",
        "batchsize=64\n",
        "for epoch in range(epochs):\n",
        "  permutations=np.random.permutation(len(xtrain))\n",
        "  xtrain=xtrain[permutations]\n",
        "  ytrain=ytrain[permutations]\n",
        "\n",
        "  for i in range(0,len(xtrain),batchsize):\n",
        "    xbatch=xtrain[i:i+batchsize]\n",
        "    ybatch=ytrain[i:i+batchsize]\n",
        "\n",
        "    #feedforward\n",
        "\n",
        "    z1=np.dot(xbatch,w1) + b1\n",
        "    a1=relu(z1)\n",
        "    z2=np.dot(a1,w2) + b2\n",
        "    a2=softmax(z2)\n",
        "\n",
        "    #lossfunction\n",
        "\n",
        "    loss=-np.sum(ybatch*np.log(a2))/len(xbatch)\n",
        "\n",
        "    #backpropagation\n",
        "\n",
        "    d2=a2-ybatch\n",
        "    dw2=np.dot(a1.T,d2)\n",
        "    db2=np.sum(d2,axis=0)\n",
        "    d1=np.dot(d2, w2.T) * (z1 > 0)\n",
        "    dw1 = np.dot(xbatch.T, d1)\n",
        "    db1 = np.sum(d1, axis=0)\n",
        "\n",
        "    #UpdatingWeights&Biases or Optimisation\n",
        "    w1-=lrate*dw1\n",
        "    w2-=lrate*dw2\n",
        "    b1-=lrate*db1\n",
        "    b2-=lrate*db2\n",
        "\n",
        "  if (epoch + 1) % 10 == 0:\n",
        "        print('Epoch',epoch + 1,'Loss:',loss)\n"
      ],
      "metadata": {
        "colab": {
          "base_uri": "https://localhost:8080/"
        },
        "id": "HzB8kTzxKaPW",
        "outputId": "29f2e94b-654f-45e6-fe73-15ea2f828025"
      },
      "execution_count": 29,
      "outputs": [
        {
          "output_type": "stream",
          "name": "stdout",
          "text": [
            "Epoch 10 Loss: 0.13687445166256745\n",
            "Epoch 20 Loss: 0.1260813595295181\n",
            "Epoch 30 Loss: 0.6722866366737069\n",
            "Epoch 40 Loss: 0.03848274046287033\n",
            "Epoch 50 Loss: 0.05840629417866472\n",
            "Epoch 60 Loss: 0.08529090178446665\n",
            "Epoch 70 Loss: 0.5161092778385838\n",
            "Epoch 80 Loss: 0.3259584818218466\n",
            "Epoch 90 Loss: 0.21922826234566184\n",
            "Epoch 100 Loss: 0.0034115255356914607\n"
          ]
        }
      ]
    },
    {
      "cell_type": "code",
      "source": [
        "#testing\n",
        "z1=np.dot(xtest,w1) + b1\n",
        "a1=relu(z1)\n",
        "z2=np.dot(a1,w2) + b2\n",
        "a2=softmax(z2)\n",
        "\n",
        "predictions = np.argmax(a2, axis=1)\n",
        "accuracy = np.mean(predictions == ytest)\n",
        "print('Test Accuracy:',accuracy)"
      ],
      "metadata": {
        "colab": {
          "base_uri": "https://localhost:8080/"
        },
        "id": "9vQ4FBeGPL02",
        "outputId": "ce33a826-322d-49a9-b423-f3e8058de315"
      },
      "execution_count": 54,
      "outputs": [
        {
          "output_type": "stream",
          "name": "stdout",
          "text": [
            "Test Accuracy: 0.9383\n"
          ]
        }
      ]
    }
  ]
}